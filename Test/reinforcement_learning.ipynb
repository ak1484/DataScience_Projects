{
 "cells": [
  {
   "cell_type": "code",
   "execution_count": 2,
   "metadata": {},
   "outputs": [
    {
     "name": "stdout",
     "output_type": "stream",
     "text": [
      "Selected action: 0\n"
     ]
    }
   ],
   "source": [
    "import numpy as np\n",
    "\n",
    "class QLearningAgent:\n",
    "    def __init__(self, num_states, num_actions, learning_rate=0.1, discount_factor=0.9):\n",
    "        self.num_states = num_states\n",
    "        self.num_actions = num_actions\n",
    "        self.learning_rate = learning_rate\n",
    "        self.discount_factor = discount_factor\n",
    "        self.Q = np.zeros((num_states, num_actions))\n",
    "\n",
    "    def update_Q(self, state, action, reward, next_state):\n",
    "        max_next_action_value = np.max(self.Q[next_state])\n",
    "        self.Q[state, action] = (1 - self.learning_rate) * self.Q[state, action] + \\\n",
    "                                self.learning_rate * (reward + self.discount_factor * max_next_action_value)\n",
    "\n",
    "    def select_action(self, state, epsilon):\n",
    "        if np.random.rand() < epsilon:\n",
    "            return np.random.choice(self.num_actions)\n",
    "        else:\n",
    "            return np.argmax(self.Q[state])\n",
    "\n",
    "# Example usage\n",
    "# Define environment parameters\n",
    "num_states = 5\n",
    "num_actions = 2\n",
    "# Create Q-learning agent\n",
    "agent = QLearningAgent(num_states, num_actions)\n",
    "# Update Q-values based on experience\n",
    "state = 0\n",
    "action = 1\n",
    "reward = 1\n",
    "next_state = 1\n",
    "agent.update_Q(state, action, reward, next_state)\n",
    "# Select action using epsilon-greedy strategy\n",
    "state = 1\n",
    "epsilon = 0.1\n",
    "selected_action = agent.select_action(state, epsilon)\n",
    "print(\"Selected action:\", selected_action)\n"
   ]
  }
 ],
 "metadata": {
  "kernelspec": {
   "display_name": "data_science",
   "language": "python",
   "name": "python3"
  },
  "language_info": {
   "codemirror_mode": {
    "name": "ipython",
    "version": 3
   },
   "file_extension": ".py",
   "mimetype": "text/x-python",
   "name": "python",
   "nbconvert_exporter": "python",
   "pygments_lexer": "ipython3",
   "version": "3.10.14"
  }
 },
 "nbformat": 4,
 "nbformat_minor": 2
}
